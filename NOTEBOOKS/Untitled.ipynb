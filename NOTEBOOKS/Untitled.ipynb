{
 "cells": [
  {
   "cell_type": "markdown",
   "id": "56c69ae4-41cd-48be-8781-8bde21f71688",
   "metadata": {},
   "source": [
    "# Data Cleaning and Setup\n",
    "\n",
    "This notebook marks the beginning of my meteorological forecasting project during my internship at [Agency Name]. All data processing and model training were performed remotely on the CESGA high-performance computing cluster. \n",
    "\n",
    "To connect to CESGA, I first had to establish a secure VPN connection using the `snx` command-line utility, which enabled CESGA to identify and authorize my device. Once connected, I accessed the cluster via SSH and used standard bash commands to navigate directories, manage data files, and execute Python scripts.\n",
    "\n",
    "Below is the basic process used to connect via SSH after the VPN was established:"
   ]
  },
  {
   "cell_type": "raw",
   "id": "9445f357-9aa5-4bb3-90e2-514d23381fe6",
   "metadata": {},
   "source": [
    "%%bash\n",
    "sudo ./snx -s pasarela.cesga.es -u uscfphpb\n",
    "ssh uscfphpb@ft.cesga.es"
   ]
  },
  {
   "cell_type": "code",
   "execution_count": null,
   "id": "b65870ad-d804-4249-92f7-75c98f9d9b05",
   "metadata": {},
   "outputs": [],
   "source": []
  }
 ],
 "metadata": {
  "kernelspec": {
   "display_name": "Python 3 (ipykernel)",
   "language": "python",
   "name": "python3"
  },
  "language_info": {
   "codemirror_mode": {
    "name": "ipython",
    "version": 3
   },
   "file_extension": ".py",
   "mimetype": "text/x-python",
   "name": "python",
   "nbconvert_exporter": "python",
   "pygments_lexer": "ipython3",
   "version": "3.12.3"
  }
 },
 "nbformat": 4,
 "nbformat_minor": 5
}
