{
 "cells": [
  {
   "cell_type": "markdown",
   "id": "56c69ae4-41cd-48be-8781-8bde21f71688",
   "metadata": {},
   "source": [
    "# Data Cleaning and Setup\n",
    "\n",
    "This notebook marks the beginning of my meteorological forecasting project during my internship at **MeteoGalicia**. My first task was to create a clean and well-structured dataset based on the raw data files provided by my tutors. This step was essential to ensure that the dataset was ready for model training and further analysis.\n",
    "\n",
    "All data processing and model training were performed remotely on the **CESGA** (*Centro Europeo de Supercomputación de Galicia*) high-performance computing cluster.\n",
    "\n",
    "To access CESGA, I first established a secure **VPN** connection using the snx command-line utility, which allowed CESGA to identify and authorize my device. Once connected, I used **SSH** to access the cluster and standard Bash commands to navigate directories, manage files, and execute Python scripts.\n",
    "\n",
    "Below is the basic process I used to connect to CESGA via SSH after the VPN was successfully established."
   ]
  },
  {
   "cell_type": "raw",
   "id": "9445f357-9aa5-4bb3-90e2-514d23381fe6",
   "metadata": {},
   "source": [
    "!sudo ./snx -s pasarela.cesga.es -u uscfphpb\n",
    "!ssh uscfphpb@ft.cesga.es"
   ]
  },
  {
   "cell_type": "markdown",
   "id": "0d561538-eff8-4ed0-9e41-1cd37f703d8c",
   "metadata": {},
   "source": [
    "and "
   ]
  },
  {
   "cell_type": "markdown",
   "id": "78c5a8cb-c432-49d3-8c14-c2a37f6118d3",
   "metadata": {},
   "source": [
    "![Alt text](../../../Imagenes/dropout.png)"
   ]
  },
  {
   "cell_type": "code",
   "execution_count": null,
   "id": "11b055cc-3087-4007-a342-3734b0b71cbc",
   "metadata": {},
   "outputs": [],
   "source": []
  }
 ],
 "metadata": {
  "kernelspec": {
   "display_name": "Python 3 (ipykernel)",
   "language": "python",
   "name": "python3"
  },
  "language_info": {
   "codemirror_mode": {
    "name": "ipython",
    "version": 3
   },
   "file_extension": ".py",
   "mimetype": "text/x-python",
   "name": "python",
   "nbconvert_exporter": "python",
   "pygments_lexer": "ipython3",
   "version": "3.12.3"
  }
 },
 "nbformat": 4,
 "nbformat_minor": 5
}
